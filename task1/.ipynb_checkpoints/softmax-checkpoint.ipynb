{
 "cells": [
  {
   "cell_type": "markdown",
   "id": "e0df2b76-23e2-4bdc-9bd1-3f0db3ed41d0",
   "metadata": {},
   "source": [
    "# TASK 1 Softmax Regression on Rotten Tomatoes"
   ]
  },
  {
   "cell_type": "code",
   "execution_count": 1,
   "id": "6aa0ef70-c995-4365-981e-31ea89080c07",
   "metadata": {},
   "outputs": [],
   "source": [
    "import numpy as np\n",
    "import pandas as pd\n",
    "from scipy import sparse\n",
    "from scipy import linalg\n",
    "import jdc\n",
    "from matplotlib import pyplot as plt\n",
    "from tqdm import tqdm"
   ]
  },
  {
   "cell_type": "code",
   "execution_count": 2,
   "id": "93d0f1e8-867c-4249-867e-e4abf240511a",
   "metadata": {},
   "outputs": [],
   "source": [
    "trainFile = \"data/train.tsv\"\n",
    "testFile = \"data/test.tsv\"\n",
    "delim = '\\t'\n",
    "ind = \"PhraseId\""
   ]
  },
  {
   "cell_type": "code",
   "execution_count": 3,
   "id": "b124429e-bad2-4f7a-a25c-ecf19f6c2554",
   "metadata": {},
   "outputs": [],
   "source": [
    "class textClassifier():\n",
    "    def __init__(self):\n",
    "        self.trainX = None\n",
    "        self.valX = None\n",
    "        self.testX = None\n",
    "        self.trainY = oneHot()\n",
    "        self.valY = oneHot()\n",
    "        self.testY = oneHot()\n",
    "        self.bow = BOW()\n",
    "        self.trainSize = 0\n",
    "        self.clsX = 0\n",
    "        self.clsY = 0\n",
    "        self.W = None\n",
    "        self.pca = PCA()"
   ]
  },
  {
   "cell_type": "markdown",
   "id": "f6cdf1bd-2759-49da-aac8-5a634a97ade0",
   "metadata": {},
   "source": [
    "# Data Pre-processing"
   ]
  },
  {
   "cell_type": "markdown",
   "id": "01f217df-bd49-4389-9074-fb365946867a",
   "metadata": {},
   "source": [
    "In practice, $\\left\\{(x_i, y_i)\\middle|x_i\\in \\mathbb{R}^{p\\times 1}, y_i\\in \\mathbb{R}^{q\\times 1}\\right\\}$ should be organized as $X = (x_1, x_2, \\cdots, x_n) \\in \\mathbb{R}^{p\\times n}$ and $Y = (y_1, y_2, \\cdots, y_n) \\in \\mathbb{R}^{q\\times n}$. (Should I?) Vectors should be stored in a columnly efficient sparse structure to reduce transaction costs. The class BOW and function oneHot() aims to fit and transform row data into intelligible data."
   ]
  },
  {
   "cell_type": "code",
   "execution_count": 4,
   "id": "696a1606-8f3c-42dc-9c29-d9e483cdbe2c",
   "metadata": {},
   "outputs": [],
   "source": [
    "class oneHot():\n",
    "    def __init__(self):\n",
    "        self.vec = None\n",
    "        self.matrix = None\n",
    "        self.shape = 0\n",
    "    \n",
    "    def cls(self):\n",
    "        return self.vec\n",
    "    \n",
    "    def oneHot(self):\n",
    "        return self.matrix\n",
    "    \n",
    "    def fit(self, vec):\n",
    "        vec = np.array(vec)\n",
    "        col = np.arange(len(vec))\n",
    "        row = vec - min(vec)\n",
    "        data = np.ones(len(vec))\n",
    "        self.matrix = sparse.csc_matrix((data, (row, col)), shape=(max(vec) - min(vec) + 1, len(vec))).toarray()\n",
    "        self.vec = vec\n",
    "        self.shape = self.matrix.shape[0]\n",
    "    \n",
    "    def shuffle(self, ind):\n",
    "        self.vec = self.vec[ind]\n",
    "        self.matrix = self.matrix[:, ind]\n",
    "        return self\n",
    "\n",
    "class BOW():\n",
    "    def __init__(self):\n",
    "        self.words = set()\n",
    "        self.dict = {}\n",
    "    \n",
    "    def fit(self, text):\n",
    "        for line in text:\n",
    "            self.words.update(line.lower().split())\n",
    "        for i, word in enumerate(sorted(list(self.words))):\n",
    "            self.dict[word] = i\n",
    "    \n",
    "    def transform(self, text):\n",
    "        row = []\n",
    "        col = []\n",
    "        for i, line in enumerate(text):\n",
    "            for word in line.lower().split():\n",
    "                assert word in self.dict, f\"{word} not found in the bag, please fit this text first.\"\n",
    "                col.append(i)\n",
    "                row.append(self.dict[word])\n",
    "        data = np.ones(len(col))\n",
    "        X = sparse.csc_matrix((data, (row, col)), shape=(len(self.dict), len(text)), dtype=np.int8)\n",
    "        return X.toarray()"
   ]
  },
  {
   "cell_type": "markdown",
   "id": "bbdd9a66-4b56-40a4-88d5-472597992d63",
   "metadata": {},
   "source": [
    "Unfortunately, my computer is powerless to deal with a matrix $X\\in\\mathbf{R}^{100000\\times 20000}$, which occupies 20GB disk space. I have to pre-process the data with PCA, and reduce total observations into 10000."
   ]
  },
  {
   "cell_type": "code",
   "execution_count": 5,
   "id": "8a2a8a32-9fad-4c0d-95d1-7f075a5671da",
   "metadata": {},
   "outputs": [],
   "source": [
    "class PCA():\n",
    "    def __init__(self):\n",
    "        self.arr = None\n",
    "        self.w = None\n",
    "    \n",
    "    def fit(self, X):\n",
    "        Sigma = np.cov(X, rowvar=True)\n",
    "        ret = linalg.schur(Sigma, sort=lambda x: abs(x))\n",
    "        self.w, self.arr = ret[0], ret[1]\n",
    "        self.w = np.diag(self.w)\n",
    "    \n",
    "    def transform(self, X, n):\n",
    "        return np.dot(self.arr[:, 1:min(len(self.w), n)].T, X)"
   ]
  },
  {
   "cell_type": "markdown",
   "id": "4cfbaa39-f0ec-4fca-ad40-c589f2ad511a",
   "metadata": {},
   "source": [
    "Training data could be split into training set and validation set at a specific rate, which by default is 20%. And since the given test data has no entry of Sentiment, it cannot be used to test our model. Practically, we extract 20% of training data to be test set."
   ]
  },
  {
   "cell_type": "code",
   "execution_count": 6,
   "id": "dfe87663-4ec6-451c-9244-7dd77e321131",
   "metadata": {
    "tags": []
   },
   "outputs": [],
   "source": [
    "%%add_to textClassifier\n",
    "def loadData(self, trainFile, maxPCA=1000, valSize=0.2, testSize=0.2, maxSize=10000):\n",
    "    trainData = pd.read_csv(trainFile, delimiter=\"\\t\", index_col=\"PhraseId\").head(maxSize)\n",
    "    testData = trainData.sample(frac=testSize, axis=0)\n",
    "    trainData = trainData[~trainData.index.isin(testData.index)]\n",
    "    valData = trainData.sample(frac=valSize, axis=0)\n",
    "    trainData = trainData[~trainData.index.isin(valData.index)]\n",
    "    \n",
    "    self.trainSize = len(trainData.index)\n",
    "    \n",
    "    self.bow.fit(trainData.Phrase)\n",
    "    self.bow.fit(valData.Phrase)\n",
    "    self.bow.fit(testData.Phrase)\n",
    "    \n",
    "    self.trainX = self.bow.transform(trainData.Phrase)\n",
    "    self.valX = self.bow.transform(valData.Phrase)\n",
    "    self.testX = self.bow.transform(testData.Phrase)\n",
    "    \n",
    "    self.pca.fit(np.column_stack((self.trainX, self.valX, self.testX)))\n",
    "    \n",
    "    print(f\"Preprocessing: {maxPCA} principal components out of {self.trainX.shape[0]} components\")\n",
    "    \n",
    "    self.trainX = self.pca.transform(self.trainX, maxPCA)\n",
    "    self.valX = self.pca.transform(self.valX, maxPCA)\n",
    "    self.testX = self.pca.transform(self.testX, maxPCA)\n",
    "    \n",
    "    self.trainY.fit(trainData.Sentiment.to_numpy())\n",
    "    self.valY.fit(valData.Sentiment.to_numpy())\n",
    "    self.testY.fit(testData.Sentiment.to_numpy())\n",
    "    \n",
    "    self.clsX = self.trainX.shape[0]\n",
    "    self.clsY = self.trainY.shape\n",
    "    self.W = np.zeros((self.clsX, self.clsY))"
   ]
  },
  {
   "cell_type": "code",
   "execution_count": 19,
   "id": "1bcf6116-743d-418e-962a-4dacef935628",
   "metadata": {
    "tags": []
   },
   "outputs": [
    {
     "name": "stdout",
     "output_type": "stream",
     "text": [
      "Preprocessing: 500 principal components out of 4473 components\n"
     ]
    }
   ],
   "source": [
    "model = textClassifier()\n",
    "model.loadData(trainFile, maxPCA=500, maxSize=20000)"
   ]
  },
  {
   "cell_type": "markdown",
   "id": "086a8340-2ce7-4200-bd89-2e8abada0aec",
   "metadata": {},
   "source": [
    "# Model Setup"
   ]
  },
  {
   "cell_type": "markdown",
   "id": "c8177233-e898-481f-ad68-1cd8a0f6e0a3",
   "metadata": {},
   "source": [
    "Softmax function for $x$ is,\n",
    "$$ \\hat{y} = \\textrm{softmax}(W^Tx)= \\frac{\\textrm{exp}(W^Tx)}{\\mathbb{1}^T\\textrm{exp}(W^Tx)}$$\n",
    "where $W\\in \\mathbb{R}^{p\\times q}$"
   ]
  },
  {
   "cell_type": "code",
   "execution_count": 7,
   "id": "adce7ec3-2b90-4c8a-8de7-773ec7b027ae",
   "metadata": {},
   "outputs": [],
   "source": [
    "%%add_to textClassifier\n",
    "def _softmax(self, X):\n",
    "#     assert self.W != None, \"The model is not yet trained.\"\n",
    "    y = np.exp(np.dot(self.W.T, X))\n",
    "    return y/sum(y)"
   ]
  },
  {
   "cell_type": "markdown",
   "id": "02828490-c53a-46ff-9dd0-7b8c5454a9d4",
   "metadata": {},
   "source": [
    "The cross-entropy loss $R(W)$ for this model is,\n",
    "$$ R(W) = -\\frac{1}{n}\\sum^{n}_{i=1}y_i^T\\log(\\hat{y}_i)$$\n",
    "And the error $E(W)$ for this model is,\n",
    "$$ E(W) = \\frac{1}{n}\\sum^{n}_{i=1}I(y_i\\ne c_i)$$"
   ]
  },
  {
   "cell_type": "code",
   "execution_count": 8,
   "id": "330ebae1-bdb5-4d3e-bf0b-9de2d6819f6c",
   "metadata": {},
   "outputs": [],
   "source": [
    "%%add_to textClassifier\n",
    "def _loss(self):\n",
    "#     assert self.W != None, \"The model is not yet trained.\"\n",
    "    return -np.mean(np.dot(self.trainY.oneHot().T, np.log(self._softmax(self.trainX))))\n",
    "    \n",
    "def _error(self, data=\"train\"):\n",
    "#     assert self.W != None, \"The model is not yet trained.\"\n",
    "    if data == \"train\":\n",
    "        return np.mean(self.predict(data) != self.trainY.cls())\n",
    "    elif data == \"validation\":\n",
    "        return np.mean(self.predict(data) != self.valY.cls())\n",
    "    elif data == \"test\":\n",
    "        return np.mean(self.predict(data) != self.testY.cls())\n",
    "    "
   ]
  },
  {
   "cell_type": "markdown",
   "id": "7b0346ad-9d7e-42ee-bd35-5f8a4eaebbdd",
   "metadata": {},
   "source": [
    "In nndl-book, the class prediction by softmax regression is given by,\n",
    "$$ \\hat{c}=\\textrm{argmax} \\hat{y} = \\textrm{argmax}\\, \\textrm{softmax}(W^Tx) $$\n",
    "$$                                 = \\textrm{argmax}\\, \\frac{\\textrm{exp}(W^Tx)}{\\mathbb{1}^T\\textrm{exp}(W^Tx)}$$"
   ]
  },
  {
   "cell_type": "code",
   "execution_count": 9,
   "id": "af06eaf1-1563-4f67-85b6-2a995505b86d",
   "metadata": {},
   "outputs": [],
   "source": [
    "%%add_to textClassifier\n",
    "def predict(self, data=\"train\"):\n",
    "#     assert self.W != None, \"The model is not yet trained.\"\n",
    "    if data == \"train\":\n",
    "        return np.argmax(np.dot(self.W.T, self.trainX), axis=0)\n",
    "    elif data == \"validation\":\n",
    "        return np.argmax(np.dot(self.W.T, self.valX), axis=0)\n",
    "    elif data == \"test\":\n",
    "        return np.argmax(np.dot(self.W.T, self.testX), axis=0)"
   ]
  },
  {
   "cell_type": "markdown",
   "id": "0cd99dce-488b-4c67-8b3c-99cd6bf99965",
   "metadata": {},
   "source": [
    "The gradient of $R(W)$ should be,\n",
    "$$\\frac{\\partial R(W)}{\\partial W} = -\\frac{1}{n}\\sum_{i=1}^{n}x_i (y_i-\\hat{y}_i)^T$$"
   ]
  },
  {
   "cell_type": "markdown",
   "id": "c3c00425-d46f-440c-9749-f52736a7fa91",
   "metadata": {},
   "source": [
    "# Training"
   ]
  },
  {
   "cell_type": "code",
   "execution_count": 30,
   "id": "e9a657f6-4dd3-490f-97c9-b530de2dc4d1",
   "metadata": {},
   "outputs": [],
   "source": [
    "%%add_to textClassifier\n",
    "def train(self, step_size=1e-3, batch_size=50, max_epoch=1000, show_size=100, shuffle=True, select=False):\n",
    "    self.W = np.random.random((self.clsX, self.clsY))\n",
    "    trainErr = []\n",
    "    valErr = []\n",
    "    if select:\n",
    "        bestW = np.zeros((self.clsX, self.clsY))\n",
    "        bestRound = 0\n",
    "        bestErr = float('inf')\n",
    "    for i in tqdm(range(max_epoch)):\n",
    "        err = self._error('validation')\n",
    "        trainErr.append(self._error('train'))\n",
    "        valErr.append(err)\n",
    "        if select and err < bestErr:\n",
    "            bestErr = err\n",
    "            bestW = self.W\n",
    "            bestRound = i\n",
    "        if i % show_size == 0:\n",
    "            print(f\"Epoch {i} of training\\nTraining Loss: {self._loss():.5f}; \"\\\n",
    "                  f\"Training error: {self._error('train'):.5f}; Validation error: {self._error('validation'):.5f}\")\n",
    "        if shuffle:\n",
    "            ind = np.arange(self.trainSize)\n",
    "            np.random.shuffle(ind)\n",
    "            self.trainX = self.trainX[:, ind]\n",
    "            self.trainY = self.trainY.shuffle(ind)\n",
    "        if not batch_size:\n",
    "            batch_size = self.trainSize\n",
    "        k = 0\n",
    "        while k < self.trainSize:\n",
    "            WINDOW = np.arange(k, min(self.trainSize, k + batch_size))\n",
    "            dR = np.zeros((self.clsX, self.clsY))\n",
    "            for col in WINDOW:\n",
    "                dR = dR - np.outer(self.trainX[:, col], (self.trainY.oneHot()[:, col] - self._softmax(self.trainX[:, col]))) / len(WINDOW)\n",
    "            self.W = self.W - step_size / np.sqrt(i / 10 + 1) * dR\n",
    "            k += batch_size\n",
    "    if select:\n",
    "        self.W = bestW\n",
    "        print(f'Best model: Epoch {bestRound}; Best training error: {trainErr[bestRound]:.5f}; Best validation error: {bestErr:.5f}')\n",
    "    \n",
    "    plt.title('Result Analysis')\n",
    "    plt.plot(np.array(trainErr), color='green', label='training accuracy')\n",
    "    plt.plot(np.array(valErr), color='red', label='validating accuracy')\n",
    "    print(f\"Result on testing error: {self._error('test')}\")"
   ]
  },
  {
   "cell_type": "markdown",
   "id": "fbe4605b-28fb-459c-87a9-dba1467cb91e",
   "metadata": {},
   "source": [
    "### Mini-batch"
   ]
  },
  {
   "cell_type": "code",
   "execution_count": 32,
   "id": "d6fc6908-0459-424b-a4a4-89ce0676f5ea",
   "metadata": {},
   "outputs": [
    {
     "name": "stderr",
     "output_type": "stream",
     "text": [
      "  0%|                                                                                          | 0/500 [00:00<?, ?it/s]"
     ]
    },
    {
     "name": "stdout",
     "output_type": "stream",
     "text": [
      "Epoch 0 of training\n",
      "Training Loss: 1.75067; Training error: 0.79906; Validation error: 0.80312\n"
     ]
    },
    {
     "name": "stderr",
     "output_type": "stream",
     "text": [
      " 10%|████████                                                                         | 50/500 [00:26<04:13,  1.78it/s]"
     ]
    },
    {
     "name": "stdout",
     "output_type": "stream",
     "text": [
      "Epoch 50 of training\n",
      "Training Loss: 2.00019; Training error: 0.53695; Validation error: 0.59500\n"
     ]
    },
    {
     "name": "stderr",
     "output_type": "stream",
     "text": [
      " 20%|████████████████                                                                | 100/500 [00:57<03:47,  1.76it/s]"
     ]
    },
    {
     "name": "stdout",
     "output_type": "stream",
     "text": [
      "Epoch 100 of training\n",
      "Training Loss: 2.02439; Training error: 0.52883; Validation error: 0.59437\n"
     ]
    },
    {
     "name": "stderr",
     "output_type": "stream",
     "text": [
      " 30%|████████████████████████                                                        | 150/500 [01:26<03:27,  1.68it/s]"
     ]
    },
    {
     "name": "stdout",
     "output_type": "stream",
     "text": [
      "Epoch 150 of training\n",
      "Training Loss: 2.03005; Training error: 0.52906; Validation error: 0.59656\n"
     ]
    },
    {
     "name": "stderr",
     "output_type": "stream",
     "text": [
      " 40%|████████████████████████████████                                                | 200/500 [01:57<02:46,  1.80it/s]"
     ]
    },
    {
     "name": "stdout",
     "output_type": "stream",
     "text": [
      "Epoch 200 of training\n",
      "Training Loss: 2.01815; Training error: 0.52883; Validation error: 0.59594\n"
     ]
    },
    {
     "name": "stderr",
     "output_type": "stream",
     "text": [
      " 50%|████████████████████████████████████████                                        | 250/500 [02:25<02:17,  1.81it/s]"
     ]
    },
    {
     "name": "stdout",
     "output_type": "stream",
     "text": [
      "Epoch 250 of training\n",
      "Training Loss: 2.02494; Training error: 0.52992; Validation error: 0.59500\n"
     ]
    },
    {
     "name": "stderr",
     "output_type": "stream",
     "text": [
      " 60%|████████████████████████████████████████████████                                | 300/500 [02:53<02:01,  1.65it/s]"
     ]
    },
    {
     "name": "stdout",
     "output_type": "stream",
     "text": [
      "Epoch 300 of training\n",
      "Training Loss: 2.01493; Training error: 0.52891; Validation error: 0.59031\n"
     ]
    },
    {
     "name": "stderr",
     "output_type": "stream",
     "text": [
      " 70%|████████████████████████████████████████████████████████                        | 350/500 [03:21<01:27,  1.72it/s]"
     ]
    },
    {
     "name": "stdout",
     "output_type": "stream",
     "text": [
      "Epoch 350 of training\n",
      "Training Loss: 2.01768; Training error: 0.52984; Validation error: 0.59281\n"
     ]
    },
    {
     "name": "stderr",
     "output_type": "stream",
     "text": [
      " 80%|████████████████████████████████████████████████████████████████                | 400/500 [03:49<00:53,  1.88it/s]"
     ]
    },
    {
     "name": "stdout",
     "output_type": "stream",
     "text": [
      "Epoch 400 of training\n",
      "Training Loss: 2.01765; Training error: 0.53250; Validation error: 0.59437\n"
     ]
    },
    {
     "name": "stderr",
     "output_type": "stream",
     "text": [
      " 90%|████████████████████████████████████████████████████████████████████████        | 450/500 [04:17<00:26,  1.87it/s]"
     ]
    },
    {
     "name": "stdout",
     "output_type": "stream",
     "text": [
      "Epoch 450 of training\n",
      "Training Loss: 2.02446; Training error: 0.52664; Validation error: 0.59156\n"
     ]
    },
    {
     "name": "stderr",
     "output_type": "stream",
     "text": [
      "100%|████████████████████████████████████████████████████████████████████████████████| 500/500 [04:45<00:00,  1.75it/s]"
     ]
    },
    {
     "name": "stdout",
     "output_type": "stream",
     "text": [
      "Best model: Epoch 11; Best training error: 0.53086; Best validation error: 0.58250\n",
      "Result on testing error: 0.573\n"
     ]
    },
    {
     "name": "stderr",
     "output_type": "stream",
     "text": [
      "\n"
     ]
    },
    {
     "data": {
      "image/png": "[encoded data removed]",
      "text/plain": [
       "<Figure size 432x288 with 1 Axes>"
      ]
     },
     "metadata": {
      "needs_background": "light"
     },
     "output_type": "display_data"
    }
   ],
   "source": [
    "model.train(step_size=5, batch_size=50, max_epoch=500, show_size=50, shuffle=True, select=True)"
   ]
  },
  {
   "cell_type": "markdown",
   "id": "81d27a6d-ba05-462b-bebd-c2513bce1acf",
   "metadata": {},
   "source": [
    "### Stochastic Gradient Descent"
   ]
  },
  {
   "cell_type": "code",
   "execution_count": 31,
   "id": "e8b3f56f-3491-4cb5-a8a8-52ec3634e505",
   "metadata": {},
   "outputs": [
    {
     "name": "stderr",
     "output_type": "stream",
     "text": [
      "  0%|                                                                                          | 0/500 [00:00<?, ?it/s]"
     ]
    },
    {
     "name": "stdout",
     "output_type": "stream",
     "text": [
      "Epoch 0 of training\n",
      "Training Loss: 1.73984; Training error: 0.79531; Validation error: 0.79719\n"
     ]
    },
    {
     "name": "stderr",
     "output_type": "stream",
     "text": [
      " 10%|████████                                                                         | 50/500 [00:33<05:21,  1.40it/s]"
     ]
    },
    {
     "name": "stdout",
     "output_type": "stream",
     "text": [
      "Epoch 50 of training\n",
      "Training Loss: 1.95429; Training error: 0.52164; Validation error: 0.59000\n"
     ]
    },
    {
     "name": "stderr",
     "output_type": "stream",
     "text": [
      " 20%|████████████████                                                                | 100/500 [01:10<04:40,  1.42it/s]"
     ]
    },
    {
     "name": "stdout",
     "output_type": "stream",
     "text": [
      "Epoch 100 of training\n",
      "Training Loss: 1.99092; Training error: 0.52938; Validation error: 0.59500\n"
     ]
    },
    {
     "name": "stderr",
     "output_type": "stream",
     "text": [
      " 30%|████████████████████████                                                        | 150/500 [01:46<04:08,  1.41it/s]"
     ]
    },
    {
     "name": "stdout",
     "output_type": "stream",
     "text": [
      "Epoch 150 of training\n",
      "Training Loss: 1.99849; Training error: 0.52734; Validation error: 0.59469\n"
     ]
    },
    {
     "name": "stderr",
     "output_type": "stream",
     "text": [
      " 40%|████████████████████████████████                                                | 200/500 [02:22<03:26,  1.45it/s]"
     ]
    },
    {
     "name": "stdout",
     "output_type": "stream",
     "text": [
      "Epoch 200 of training\n",
      "Training Loss: 1.99661; Training error: 0.52922; Validation error: 0.59031\n"
     ]
    },
    {
     "name": "stderr",
     "output_type": "stream",
     "text": [
      " 50%|████████████████████████████████████████                                        | 250/500 [02:58<02:57,  1.41it/s]"
     ]
    },
    {
     "name": "stdout",
     "output_type": "stream",
     "text": [
      "Epoch 250 of training\n",
      "Training Loss: 2.00398; Training error: 0.52789; Validation error: 0.59031\n"
     ]
    },
    {
     "name": "stderr",
     "output_type": "stream",
     "text": [
      " 60%|████████████████████████████████████████████████                                | 300/500 [03:35<02:28,  1.35it/s]"
     ]
    },
    {
     "name": "stdout",
     "output_type": "stream",
     "text": [
      "Epoch 300 of training\n",
      "Training Loss: 2.00958; Training error: 0.52828; Validation error: 0.59531\n"
     ]
    },
    {
     "name": "stderr",
     "output_type": "stream",
     "text": [
      " 70%|████████████████████████████████████████████████████████                        | 350/500 [04:11<01:45,  1.42it/s]"
     ]
    },
    {
     "name": "stdout",
     "output_type": "stream",
     "text": [
      "Epoch 350 of training\n",
      "Training Loss: 2.01219; Training error: 0.52758; Validation error: 0.59562\n"
     ]
    },
    {
     "name": "stderr",
     "output_type": "stream",
     "text": [
      " 80%|████████████████████████████████████████████████████████████████                | 400/500 [04:48<01:13,  1.37it/s]"
     ]
    },
    {
     "name": "stdout",
     "output_type": "stream",
     "text": [
      "Epoch 400 of training\n",
      "Training Loss: 2.01256; Training error: 0.52805; Validation error: 0.59062\n"
     ]
    },
    {
     "name": "stderr",
     "output_type": "stream",
     "text": [
      " 90%|████████████████████████████████████████████████████████████████████████        | 450/500 [05:24<00:34,  1.45it/s]"
     ]
    },
    {
     "name": "stdout",
     "output_type": "stream",
     "text": [
      "Epoch 450 of training\n",
      "Training Loss: 2.01579; Training error: 0.52805; Validation error: 0.59250\n"
     ]
    },
    {
     "name": "stderr",
     "output_type": "stream",
     "text": [
      "100%|████████████████████████████████████████████████████████████████████████████████| 500/500 [06:00<00:00,  1.39it/s]"
     ]
    },
    {
     "name": "stdout",
     "output_type": "stream",
     "text": [
      "Best model: Epoch 8; Best training error: 0.52797; Best validation error: 0.58313\n",
      "Result on testing error: 0.57225\n"
     ]
    },
    {
     "name": "stderr",
     "output_type": "stream",
     "text": [
      "\n"
     ]
    },
    {
     "data": {
      "image/png": "[encoded data removed]",
      "text/plain": [
       "<Figure size 432x288 with 1 Axes>"
      ]
     },
     "metadata": {
      "needs_background": "light"
     },
     "output_type": "display_data"
    }
   ],
   "source": [
    "model.train(step_size=5e-2, batch_size=1, max_epoch=500, show_size=50, shuffle=True, select=True)"
   ]
  },
  {
   "cell_type": "markdown",
   "id": "c261d8b7-a5aa-4784-8354-aedfd32599ff",
   "metadata": {},
   "source": [
    "### Gradient Descent"
   ]
  },
  {
   "cell_type": "code",
   "execution_count": 29,
   "id": "790638db-bb1a-40d6-ad84-c87173bbe4cc",
   "metadata": {},
   "outputs": [
    {
     "name": "stderr",
     "output_type": "stream",
     "text": [
      "  0%|                                                                                          | 0/500 [00:00<?, ?it/s]"
     ]
    },
    {
     "name": "stdout",
     "output_type": "stream",
     "text": [
      "Epoch 0 of training\n",
      "Training Loss: 1.75518; Training error: 0.80078; Validation error: 0.79063\n"
     ]
    },
    {
     "name": "stderr",
     "output_type": "stream",
     "text": [
      " 10%|████████                                                                         | 50/500 [00:24<03:50,  1.95it/s]"
     ]
    },
    {
     "name": "stdout",
     "output_type": "stream",
     "text": [
      "Epoch 50 of training\n",
      "Training Loss: 1.78678; Training error: 0.53789; Validation error: 0.57969\n"
     ]
    },
    {
     "name": "stderr",
     "output_type": "stream",
     "text": [
      " 20%|████████████████                                                                | 100/500 [00:51<03:24,  1.95it/s]"
     ]
    },
    {
     "name": "stdout",
     "output_type": "stream",
     "text": [
      "Epoch 100 of training\n",
      "Training Loss: 1.82069; Training error: 0.52828; Validation error: 0.58281\n"
     ]
    },
    {
     "name": "stderr",
     "output_type": "stream",
     "text": [
      " 30%|████████████████████████                                                        | 150/500 [01:21<03:20,  1.75it/s]"
     ]
    },
    {
     "name": "stdout",
     "output_type": "stream",
     "text": [
      "Epoch 150 of training\n",
      "Training Loss: 1.84247; Training error: 0.52484; Validation error: 0.58531\n"
     ]
    },
    {
     "name": "stderr",
     "output_type": "stream",
     "text": [
      " 40%|████████████████████████████████                                                | 200/500 [01:48<02:30,  1.99it/s]"
     ]
    },
    {
     "name": "stdout",
     "output_type": "stream",
     "text": [
      "Epoch 200 of training\n",
      "Training Loss: 1.85873; Training error: 0.52438; Validation error: 0.58844\n"
     ]
    },
    {
     "name": "stderr",
     "output_type": "stream",
     "text": [
      " 50%|████████████████████████████████████████                                        | 250/500 [02:15<02:03,  2.02it/s]"
     ]
    },
    {
     "name": "stdout",
     "output_type": "stream",
     "text": [
      "Epoch 250 of training\n",
      "Training Loss: 1.87138; Training error: 0.52359; Validation error: 0.58688\n"
     ]
    },
    {
     "name": "stderr",
     "output_type": "stream",
     "text": [
      " 60%|████████████████████████████████████████████████                                | 300/500 [02:42<01:40,  1.99it/s]"
     ]
    },
    {
     "name": "stdout",
     "output_type": "stream",
     "text": [
      "Epoch 300 of training\n",
      "Training Loss: 1.88160; Training error: 0.52352; Validation error: 0.58688\n"
     ]
    },
    {
     "name": "stderr",
     "output_type": "stream",
     "text": [
      " 70%|████████████████████████████████████████████████████████                        | 350/500 [03:12<01:27,  1.71it/s]"
     ]
    },
    {
     "name": "stdout",
     "output_type": "stream",
     "text": [
      "Epoch 350 of training\n",
      "Training Loss: 1.89010; Training error: 0.52352; Validation error: 0.58906\n"
     ]
    },
    {
     "name": "stderr",
     "output_type": "stream",
     "text": [
      " 80%|████████████████████████████████████████████████████████████████                | 400/500 [03:42<00:53,  1.87it/s]"
     ]
    },
    {
     "name": "stdout",
     "output_type": "stream",
     "text": [
      "Epoch 400 of training\n",
      "Training Loss: 1.89733; Training error: 0.52383; Validation error: 0.58875\n"
     ]
    },
    {
     "name": "stderr",
     "output_type": "stream",
     "text": [
      " 90%|████████████████████████████████████████████████████████████████████████        | 450/500 [04:09<00:25,  1.94it/s]"
     ]
    },
    {
     "name": "stdout",
     "output_type": "stream",
     "text": [
      "Epoch 450 of training\n",
      "Training Loss: 1.90359; Training error: 0.52305; Validation error: 0.58875\n"
     ]
    },
    {
     "name": "stderr",
     "output_type": "stream",
     "text": [
      "100%|████████████████████████████████████████████████████████████████████████████████| 500/500 [04:35<00:00,  1.81it/s]"
     ]
    },
    {
     "name": "stdout",
     "output_type": "stream",
     "text": [
      "Best model: Epoch 60; Best training error: 0.53094; Best validation error: 0.57781\n",
      "Result on testing error: 0.57075\n"
     ]
    },
    {
     "name": "stderr",
     "output_type": "stream",
     "text": [
      "\n"
     ]
    },
    {
     "data": {
      "image/png": "[encoded data removed]",
      "text/plain": [
       "<Figure size 432x288 with 1 Axes>"
      ]
     },
     "metadata": {
      "needs_background": "light"
     },
     "output_type": "display_data"
    }
   ],
   "source": [
    "model.train(step_size=100, batch_size=None, max_epoch=500, show_size=50, shuffle=False, select=True)"
   ]
  }
 ],
 "metadata": {
  "kernelspec": {
   "display_name": "Python [conda env:root] *",
   "language": "python",
   "name": "conda-root-py"
  },
  "language_info": {
   "codemirror_mode": {
    "name": "ipython",
    "version": 3
   },
   "file_extension": ".py",
   "mimetype": "text/x-python",
   "name": "python",
   "nbconvert_exporter": "python",
   "pygments_lexer": "ipython3",
   "version": "3.8.8"
  }
 },
 "nbformat": 4,
 "nbformat_minor": 5
}
