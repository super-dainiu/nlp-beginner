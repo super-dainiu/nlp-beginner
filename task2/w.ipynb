{
 "cells": [
  {
   "cell_type": "code",
   "execution_count": 1,
   "id": "c70654fc-276f-45fc-b1b6-7bad2d5cdfe4",
   "metadata": {},
   "outputs": [],
   "source": [
    "import pandas as pd"
   ]
  },
  {
   "cell_type": "code",
   "execution_count": 2,
   "id": "fd29de4e-6dbc-44f1-8be9-05c98594df74",
   "metadata": {},
   "outputs": [],
   "source": [
    "trainFile = \"data/train.tsv\"\n",
    "allData = pd.read_csv(trainFile, delimiter=\"\\t\", index_col=\"PhraseId\")\n",
    "sentiment = allData.Sentiment"
   ]
  },
  {
   "cell_type": "code",
   "execution_count": 6,
   "id": "088a9302-9300-4417-843e-870d3e6424b4",
   "metadata": {},
   "outputs": [],
   "source": [
    "cont = pd.value_counts(sentiment)"
   ]
  },
  {
   "cell_type": "code",
   "execution_count": 9,
   "id": "e2c35bd8-f578-488f-bf54-3e1ab4a01cd2",
   "metadata": {},
   "outputs": [
    {
     "data": {
      "text/plain": [
       "0.5099448929898757"
      ]
     },
     "execution_count": 9,
     "metadata": {},
     "output_type": "execute_result"
    }
   ],
   "source": [
    "cont[2]/sum(cont)"
   ]
  }
 ],
 "metadata": {
  "kernelspec": {
   "display_name": "pydata-book",
   "language": "python",
   "name": "pydata-book"
  },
  "language_info": {
   "codemirror_mode": {
    "name": "ipython",
    "version": 3
   },
   "file_extension": ".py",
   "mimetype": "text/x-python",
   "name": "python",
   "nbconvert_exporter": "python",
   "pygments_lexer": "ipython3",
   "version": "3.8.8"
  }
 },
 "nbformat": 4,
 "nbformat_minor": 5
}
